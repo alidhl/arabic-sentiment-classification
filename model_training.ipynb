{
 "cells": [
  {
   "cell_type": "code",
   "execution_count": 1,
   "metadata": {},
   "outputs": [
    {
     "name": "stdout",
     "output_type": "stream",
     "text": [
      "WARNING:tensorflow:From c:\\Users\\pcd\\Documents\\GitHub\\arabic-sentiment-classification\\.venv\\lib\\site-packages\\keras\\src\\losses.py:2976: The name tf.losses.sparse_softmax_cross_entropy is deprecated. Please use tf.compat.v1.losses.sparse_softmax_cross_entropy instead.\n",
      "\n"
     ]
    }
   ],
   "source": [
    "import tensorflow as tf\n",
    "import numpy as np\n",
    "import matplotlib.pyplot as plt\n",
    "import pandas as pd\n",
    "import csv\n",
    "import json"
   ]
  },
  {
   "cell_type": "markdown",
   "metadata": {},
   "source": [
    "# Data Exploration\n",
    "##### Will be using two datasets from huggingface so we need to understand how each of the data is formated and combine both of them in one data structure\n",
    "* tweet_sentiment_multilingual uses 2:positive, 1:neutral, 0:negative format\n",
    "* dz-sentiment-yt-comments uses 2:postive, 1:neutral, 0:negative format\n",
    "##### no need to change any of the labels "
   ]
  },
  {
   "cell_type": "code",
   "execution_count": 2,
   "metadata": {},
   "outputs": [
    {
     "name": "stdout",
     "output_type": "stream",
     "text": [
      "                                                   0      1\n",
      "0                                               text  label\n",
      "1       يا سي كريم الرئيس الذى تشتكى له هو أصله معين      1\n",
      "2  حتى السعودية قاتلكم ماكمش عرب،واش بقا يا بعاصي...      0\n",
      "3                              Thbliiii bravo souade      2\n",
      "4          تحيالي ناس بن يزقن و لقصور في الغيبة 🌹🇩🇿🤣      2\n",
      "--------------------------------------------------\n",
      "            0      1\n",
      "count   50017  50017\n",
      "unique  50017      4\n",
      "top      text      2\n",
      "freq        1  21847\n",
      "--------------------------------------------------\n",
      "0    0\n",
      "1    0\n",
      "dtype: int64\n"
     ]
    }
   ],
   "source": [
    "# Explore the first data source\n",
    "# Load the data\n",
    "data = pd.read_csv('data\\dz-sentiment-yt-comments\\ADArabic-3labels-50016.csv', sep=',', header=None)\n",
    "# Print the first 5 rows of the dataframe.\n",
    "print(data.head())\n",
    "print('-'*50)\n",
    "# Print the statistics of the data\n",
    "print(data.describe())\n",
    "print('-'*50)\n",
    "# Check for missing values\n",
    "print(data.isna().sum())\n"
   ]
  },
  {
   "cell_type": "code",
   "execution_count": 3,
   "metadata": {},
   "outputs": [
    {
     "name": "stdout",
     "output_type": "stream",
     "text": [
      "{'text': 'RT @user: @user @user   وصلنا لاقتصاد اسوء من سوريا والعراق ومن غير حربانجاز ده ولا مش انجاز يا متعلمين يا بتوع المدا…', 'label': '0'}\n",
      "{'text': 'كاني ويست، دريك، نيكي، بيونسيه، قاقا http', 'label': '1'}\n"
     ]
    }
   ],
   "source": [
    "jsonl_data = []\n",
    "with open('data\\\\tweet_sentiment_multilingual\\\\train.jsonl', 'r', encoding='utf-8') as jsonl_file:\n",
    "    for line in jsonl_file:\n",
    "        json_line = json.loads(line)\n",
    "        jsonl_data.append({'text': json_line['text'], 'label': json_line['label']})\n",
    "\n",
    "print(jsonl_data[0])\n",
    "print(jsonl_data[1])"
   ]
  },
  {
   "cell_type": "markdown",
   "metadata": {},
   "source": [
    "# Data Preprocessing"
   ]
  },
  {
   "cell_type": "code",
   "execution_count": 4,
   "metadata": {},
   "outputs": [
    {
     "name": "stdout",
     "output_type": "stream",
     "text": [
      "First five sentences:\n",
      "\n",
      "['نوال الزغبي (الشاب خالد ليس عالمي) هههههههه أتفرجي على ها الفيديو يا مبتدئة http vía @user', 'تقول نوال الزغبي : http', 'نوال الزغبي لطيفه الفنانه الوحيده اللي كل الفيديو كليبات تبعها ماتسبب تلوث بصري ولا سمعي لو صوتها اقل من عادي', 'لما قالت نوال الزغبي لابقلها هاللقب فرحوا فانزها 😂😂😂كان لازم ياخدوها اهانة مش ثناء http', 'الفنانة نوال الزغبي سنة 90 http']\n",
      "First five labels:\n",
      "\n",
      "[[1. 0. 0.]\n",
      " [0. 1. 0.]\n",
      " [0. 0. 1.]\n",
      " [1. 0. 0.]\n",
      " [0. 1. 0.]]\n"
     ]
    }
   ],
   "source": [
    "# method to load JSONL data\n",
    "def load_jsonl(file_path):\n",
    "    data = []\n",
    "    with open(file_path, 'r', encoding='utf-8') as jsonl_file:\n",
    "        for line in jsonl_file:\n",
    "            json_line = json.loads(line)\n",
    "            data.append({'text': json_line['text'], 'label': json_line['label']})\n",
    "    return data\n",
    "# Load JSONL data from three files\n",
    "jsonl_data1 = load_jsonl('data\\\\tweet_sentiment_multilingual\\\\test.jsonl')\n",
    "jsonl_data2 = load_jsonl('data\\\\tweet_sentiment_multilingual\\\\train.jsonl')\n",
    "jsonl_data3 = load_jsonl('data\\\\tweet_sentiment_multilingual\\\\validation.jsonl')\n",
    "# Load CSV data\n",
    "csv_data = []\n",
    "with open('data\\\\dz-sentiment-yt-comments\\\\ADArabic-3labels-50016.csv', 'r', encoding='utf-8') as csv_file:\n",
    "    reader = csv.reader(csv_file)\n",
    "    next(reader, None)  # Skip the header if there is one\n",
    "    for row in reader:\n",
    "        text = row[0]  # Assuming 'text' is in the first column\n",
    "        label = row[1]  # Assuming 'label' is in the second column\n",
    "        csv_data.append({'text': text, 'label': label})\n",
    "\n",
    "# Combine the datasets\n",
    "combined_data = jsonl_data1 + jsonl_data2 + jsonl_data2 + csv_data\n",
    "\n",
    "\n",
    "# Define the labels and sentences\n",
    "sentences = [data['text'] for data in combined_data]\n",
    "labels = [data['label'] for data in combined_data]\n",
    "# Convert labels to integers\n",
    "labels = [int(label) for label in labels]\n",
    "# Convert labels to one-hot encodings\n",
    "labels = tf.keras.utils.to_categorical(labels, num_classes=3) # converting it to numpy array instead is also an option\n",
    "# Print the first five sentences and labels\n",
    "print(f\"First five sentences:\\n\\n{sentences[:5]}\")\n",
    "print(f\"First five labels:\\n\\n{labels[:5]}\")\n"
   ]
  },
  {
   "cell_type": "code",
   "execution_count": 5,
   "metadata": {},
   "outputs": [],
   "source": [
    "from sklearn.model_selection import train_test_split\n",
    "# Split the data into training and testing sets this also shuffles the data\n",
    "training_sentences, validation_sentences, training_labels, validation_labels = train_test_split(sentences, labels, test_size=0.2, random_state=42)"
   ]
  },
  {
   "cell_type": "code",
   "execution_count": 6,
   "metadata": {},
   "outputs": [
    {
     "name": "stdout",
     "output_type": "stream",
     "text": [
      "First sentence:\n",
      "\n",
      " هل تعلم ان النقطه (. )هيه نفسها 👈 (*)بس مسويه شعرها مثل ميريام فارس 🌚😂✋\n",
      "First sentence tokenized:\n",
      "\n",
      " [95, 1423, 18, 1, 1, 1861, 1, 407, 1, 4665, 170, 821, 488, 1]\n",
      "First sentence padded:\n",
      "\n",
      " [  95 1423   18    1    1 1861    1  407    1 4665  170  821  488    1\n",
      "    0    0    0    0    0    0    0    0    0    0    0    0    0    0\n",
      "    0    0    0    0    0    0    0    0    0    0    0    0    0    0\n",
      "    0    0    0    0    0    0    0    0]\n",
      "padded shape:\n",
      "\n",
      " (43651, 50)\n",
      "--------------------------------------------------\n",
      "First validation sentence:\n",
      "\n",
      " شيئ تقشعر له الأبدان\n",
      "First validation sentence tokenized:\n",
      "\n",
      " [1140    1  104    1    0    0    0    0    0    0    0    0    0    0\n",
      "    0    0    0    0    0    0    0    0    0    0    0    0    0    0\n",
      "    0    0    0    0    0    0    0    0    0    0    0    0    0    0\n",
      "    0    0    0    0    0    0    0    0]\n",
      "padded shape:\n",
      "\n",
      " (10913, 50)\n"
     ]
    }
   ],
   "source": [
    "from keras.preprocessing.text import Tokenizer\n",
    "from keras.preprocessing.sequence import pad_sequences\n",
    "# Tokenize the sentences\n",
    "def tokenize(sentences, vocab_size, oov_token, trunc_type, padding_type, max_length):\n",
    "    tokenizer = Tokenizer(num_words=vocab_size, oov_token=oov_token)\n",
    "    tokenizer.fit_on_texts(sentences)\n",
    "    word_index = tokenizer.word_index\n",
    "    sequences = tokenizer.texts_to_sequences(sentences)\n",
    "    padded = pad_sequences(sequences, padding=padding_type, truncating=trunc_type, maxlen=max_length)\n",
    "    return sequences, padded, word_index, tokenizer\n",
    "\n",
    "vocab_size = 10000\n",
    "oov_token = \"<OOV>\"\n",
    "trunc_type = 'post'\n",
    "padding_type = 'post'\n",
    "embedding_dim = 16\n",
    "max_length = 50 # tweets don't usaually exceed 50 words\n",
    "\n",
    "train_sequences, train_padded, word_index, tokenizer = tokenize(training_sentences, vocab_size, oov_token, trunc_type, padding_type, max_length)\n",
    "\n",
    "test_padded = tokenizer.texts_to_sequences(validation_sentences)\n",
    "test_padded = pad_sequences(test_padded, padding=padding_type, truncating=trunc_type, maxlen=max_length)\n",
    "\n",
    "print(f\"First sentence:\\n\\n {training_sentences[0]}\")\n",
    "print(f\"First sentence tokenized:\\n\\n {train_sequences[0]}\")\n",
    "print(f\"First sentence padded:\\n\\n {train_padded[0]}\")\n",
    "print(f\"padded shape:\\n\\n {train_padded.shape}\")\n",
    "print(\"-\"*50)\n",
    "print(f\"First validation sentence:\\n\\n {validation_sentences[0]}\")\n",
    "print(f\"First validation sentence tokenized:\\n\\n {test_padded[0]}\")\n",
    "print(f\"padded shape:\\n\\n {test_padded.shape}\")\n",
    "\n"
   ]
  },
  {
   "cell_type": "markdown",
   "metadata": {},
   "source": [
    "## Training The Model"
   ]
  },
  {
   "cell_type": "code",
   "execution_count": 7,
   "metadata": {},
   "outputs": [
    {
     "name": "stdout",
     "output_type": "stream",
     "text": [
      "WARNING:tensorflow:From c:\\Users\\pcd\\Documents\\GitHub\\arabic-sentiment-classification\\.venv\\lib\\site-packages\\keras\\src\\backend.py:873: The name tf.get_default_graph is deprecated. Please use tf.compat.v1.get_default_graph instead.\n",
      "\n",
      "WARNING:tensorflow:From c:\\Users\\pcd\\Documents\\GitHub\\arabic-sentiment-classification\\.venv\\lib\\site-packages\\keras\\src\\optimizers\\__init__.py:309: The name tf.train.Optimizer is deprecated. Please use tf.compat.v1.train.Optimizer instead.\n",
      "\n",
      "Model: \"sequential\"\n",
      "_________________________________________________________________\n",
      " Layer (type)                Output Shape              Param #   \n",
      "=================================================================\n",
      " embedding (Embedding)       (None, 50, 16)            160000    \n",
      "                                                                 \n",
      " dropout (Dropout)           (None, 50, 16)            0         \n",
      "                                                                 \n",
      " conv1d (Conv1D)             (None, 46, 64)            5184      \n",
      "                                                                 \n",
      " global_average_pooling1d (  (None, 64)                0         \n",
      " GlobalAveragePooling1D)                                         \n",
      "                                                                 \n",
      " dense (Dense)               (None, 64)                4160      \n",
      "                                                                 \n",
      " dense_1 (Dense)             (None, 3)                 195       \n",
      "                                                                 \n",
      "=================================================================\n",
      "Total params: 169539 (662.26 KB)\n",
      "Trainable params: 169539 (662.26 KB)\n",
      "Non-trainable params: 0 (0.00 Byte)\n",
      "_________________________________________________________________\n"
     ]
    }
   ],
   "source": [
    "model = tf.keras.Sequential([\n",
    "    tf.keras.layers.Embedding(vocab_size, embedding_dim, input_length=max_length),\n",
    "    tf.keras.layers.Dropout(0.2),\n",
    "    tf.keras.layers.Conv1D(64, 5, activation='relu'),\n",
    "    tf.keras.layers.GlobalAveragePooling1D(),\n",
    "    tf.keras.layers.Dense(64, activation='relu'),\n",
    "    #Three output nodes, one for each label\n",
    "    tf.keras.layers.Dense(3, activation='softmax')\n",
    "])\n",
    "model.compile(loss='binary_crossentropy',optimizer='adam',metrics=['accuracy'])\n",
    "model.summary()"
   ]
  },
  {
   "cell_type": "code",
   "execution_count": 8,
   "metadata": {},
   "outputs": [
    {
     "name": "stdout",
     "output_type": "stream",
     "text": [
      "Epoch 1/20\n",
      "WARNING:tensorflow:From c:\\Users\\pcd\\Documents\\GitHub\\arabic-sentiment-classification\\.venv\\lib\\site-packages\\keras\\src\\utils\\tf_utils.py:492: The name tf.ragged.RaggedTensorValue is deprecated. Please use tf.compat.v1.ragged.RaggedTensorValue instead.\n",
      "\n",
      "WARNING:tensorflow:From c:\\Users\\pcd\\Documents\\GitHub\\arabic-sentiment-classification\\.venv\\lib\\site-packages\\keras\\src\\engine\\base_layer_utils.py:384: The name tf.executing_eagerly_outside_functions is deprecated. Please use tf.compat.v1.executing_eagerly_outside_functions instead.\n",
      "\n",
      "1365/1365 - 4s - loss: 0.5014 - accuracy: 0.6048 - val_loss: 0.4355 - val_accuracy: 0.6710 - 4s/epoch - 3ms/step\n",
      "Epoch 2/20\n",
      "1365/1365 - 3s - loss: 0.3778 - accuracy: 0.7319 - val_loss: 0.3901 - val_accuracy: 0.7296 - 3s/epoch - 2ms/step\n",
      "Epoch 3/20\n",
      "1365/1365 - 3s - loss: 0.3238 - accuracy: 0.7825 - val_loss: 0.3800 - val_accuracy: 0.7374 - 3s/epoch - 2ms/step\n",
      "Epoch 4/20\n",
      "1365/1365 - 3s - loss: 0.2929 - accuracy: 0.8054 - val_loss: 0.4001 - val_accuracy: 0.7327 - 3s/epoch - 2ms/step\n",
      "Epoch 5/20\n",
      "1365/1365 - 3s - loss: 0.2707 - accuracy: 0.8234 - val_loss: 0.3994 - val_accuracy: 0.7348 - 3s/epoch - 2ms/step\n",
      "Epoch 6/20\n",
      "1365/1365 - 3s - loss: 0.2508 - accuracy: 0.8378 - val_loss: 0.4141 - val_accuracy: 0.7330 - 3s/epoch - 2ms/step\n",
      "Epoch 7/20\n",
      "1365/1365 - 3s - loss: 0.2340 - accuracy: 0.8497 - val_loss: 0.4384 - val_accuracy: 0.7288 - 3s/epoch - 2ms/step\n",
      "Epoch 8/20\n",
      "1365/1365 - 3s - loss: 0.2173 - accuracy: 0.8601 - val_loss: 0.4536 - val_accuracy: 0.7307 - 3s/epoch - 2ms/step\n",
      "Epoch 9/20\n",
      "1365/1365 - 3s - loss: 0.2040 - accuracy: 0.8687 - val_loss: 0.4741 - val_accuracy: 0.7297 - 3s/epoch - 2ms/step\n",
      "Epoch 10/20\n",
      "1365/1365 - 3s - loss: 0.1899 - accuracy: 0.8787 - val_loss: 0.5140 - val_accuracy: 0.7312 - 3s/epoch - 2ms/step\n",
      "Epoch 11/20\n",
      "1365/1365 - 3s - loss: 0.1790 - accuracy: 0.8863 - val_loss: 0.5412 - val_accuracy: 0.7293 - 3s/epoch - 2ms/step\n",
      "Epoch 12/20\n",
      "1365/1365 - 3s - loss: 0.1675 - accuracy: 0.8942 - val_loss: 0.5756 - val_accuracy: 0.7219 - 3s/epoch - 2ms/step\n",
      "Epoch 13/20\n",
      "1365/1365 - 3s - loss: 0.1596 - accuracy: 0.8993 - val_loss: 0.6097 - val_accuracy: 0.7267 - 3s/epoch - 2ms/step\n",
      "Epoch 14/20\n",
      "1365/1365 - 3s - loss: 0.1504 - accuracy: 0.9050 - val_loss: 0.6356 - val_accuracy: 0.7246 - 3s/epoch - 2ms/step\n",
      "Epoch 15/20\n",
      "1365/1365 - 3s - loss: 0.1436 - accuracy: 0.9093 - val_loss: 0.6766 - val_accuracy: 0.7251 - 3s/epoch - 2ms/step\n",
      "Epoch 16/20\n",
      "1365/1365 - 3s - loss: 0.1367 - accuracy: 0.9127 - val_loss: 0.6780 - val_accuracy: 0.7201 - 3s/epoch - 2ms/step\n",
      "Epoch 17/20\n",
      "1365/1365 - 3s - loss: 0.1319 - accuracy: 0.9164 - val_loss: 0.7186 - val_accuracy: 0.7162 - 3s/epoch - 2ms/step\n",
      "Epoch 18/20\n",
      "1365/1365 - 3s - loss: 0.1269 - accuracy: 0.9200 - val_loss: 0.7567 - val_accuracy: 0.7256 - 3s/epoch - 2ms/step\n",
      "Epoch 19/20\n",
      "1365/1365 - 3s - loss: 0.1214 - accuracy: 0.9225 - val_loss: 0.7724 - val_accuracy: 0.7225 - 3s/epoch - 2ms/step\n",
      "Epoch 20/20\n",
      "1365/1365 - 3s - loss: 0.1202 - accuracy: 0.9224 - val_loss: 0.7949 - val_accuracy: 0.7194 - 3s/epoch - 2ms/step\n"
     ]
    }
   ],
   "source": [
    "history = model.fit(train_padded, training_labels, epochs=20, validation_data=(test_padded, validation_labels), verbose=2)"
   ]
  },
  {
   "cell_type": "code",
   "execution_count": 9,
   "metadata": {},
   "outputs": [
    {
     "data": {
      "image/png": "[encoded data removed]",
      "text/plain": [
       "<Figure size 640x480 with 1 Axes>"
      ]
     },
     "metadata": {},
     "output_type": "display_data"
    },
    {
     "data": {
      "image/png": "[encoded data removed]",
      "text/plain": [
       "<Figure size 640x480 with 1 Axes>"
      ]
     },
     "metadata": {},
     "output_type": "display_data"
    }
   ],
   "source": [
    "# plot the accuracy and loss\n",
    "def plot_graphs(history, string):\n",
    "    plt.plot(history.history[string])\n",
    "    plt.plot(history.history['val_'+string])\n",
    "    plt.xlabel(\"Epochs\")\n",
    "    plt.ylabel(string)\n",
    "    plt.legend([string, 'val_'+string])\n",
    "    plt.show()\n",
    "\n",
    "plot_graphs(history, \"accuracy\")\n",
    "plot_graphs(history, \"loss\")"
   ]
  },
  {
   "cell_type": "markdown",
   "metadata": {},
   "source": [
    "# Saving the model and tokenizer to use in Gradio interface"
   ]
  },
  {
   "cell_type": "code",
   "execution_count": 11,
   "metadata": {},
   "outputs": [],
   "source": [
    "# save the model')\n",
    "history.model.save('model.keras')\n",
    "tokenizer_json = tokenizer.to_json()\n",
    "with open('tokenizer.json', 'w', encoding='utf-8') as f:\n",
    "    f.write(tokenizer_json)"
   ]
  }
 ],
 "metadata": {
  "kernelspec": {
   "display_name": ".venv",
   "language": "python",
   "name": "python3"
  },
  "language_info": {
   "codemirror_mode": {
    "name": "ipython",
    "version": 3
   },
   "file_extension": ".py",
   "mimetype": "text/x-python",
   "name": "python",
   "nbconvert_exporter": "python",
   "pygments_lexer": "ipython3",
   "version": "3.10.0"
  }
 },
 "nbformat": 4,
 "nbformat_minor": 2
}
